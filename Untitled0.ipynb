{
 "metadata": {
  "name": ""
 },
 "nbformat": 3,
 "nbformat_minor": 0,
 "worksheets": [
  {
   "cells": [
    {
     "cell_type": "code",
     "collapsed": false,
     "input": [
      "code = 0b111100101\n",
      "g = 0b101101"
     ],
     "language": "python",
     "metadata": {},
     "outputs": [],
     "prompt_number": 196
    },
    {
     "cell_type": "code",
     "collapsed": false,
     "input": [
      "def blen(x):\n",
      "    return len(bin(x)) - 2\n",
      "\n",
      "\n",
      "def bstr(data, length):\n",
      "    return \"0\" * (length - blen(data)) + str(bin(data))[2:]\n",
      "\n",
      "\n",
      "def crc(data, g, k):\n",
      "    glen = blen(g)\n",
      "    d = data << (glen - 1)\n",
      "    g_shift = k - glen\n",
      "    while g_shift > 0:\n",
      "        d = d ^ (g << g_shift)\n",
      "        g_shift = blen(d) - glen\n",
      "    result = (data << (glen - 1)) + d\n",
      "    return result, bstr(result, k + glen - 1)[-(glen - 1):]\n",
      "\n",
      "\n",
      "def generate_table():\n",
      "    table = {}\n",
      "    for i in xrange(262144):\n",
      "        table[i] = crc(i, 9, 16)[1]\n",
      "    return table\n",
      "\n",
      "\n",
      "def crc_table(table, data):\n",
      "    return table[data]"
     ],
     "language": "python",
     "metadata": {},
     "outputs": [],
     "prompt_number": 150
    },
    {
     "cell_type": "code",
     "collapsed": false,
     "input": [
      "from collections import  Counter\n",
      "Counter.update(\"tp\")"
     ],
     "language": "python",
     "metadata": {},
     "outputs": [
      {
       "ename": "TypeError",
       "evalue": "unbound method update() must be called with Counter instance as first argument (got str instance instead)",
       "output_type": "pyerr",
       "traceback": [
        "\u001b[1;31m---------------------------------------------------------------------------\u001b[0m\n\u001b[1;31mTypeError\u001b[0m                                 Traceback (most recent call last)",
        "\u001b[1;32m<ipython-input-137-eabe034791dc>\u001b[0m in \u001b[0;36m<module>\u001b[1;34m()\u001b[0m\n\u001b[0;32m      1\u001b[0m \u001b[1;32mfrom\u001b[0m \u001b[0mcollections\u001b[0m \u001b[1;32mimport\u001b[0m  \u001b[0mCounter\u001b[0m\u001b[1;33m\u001b[0m\u001b[0m\n\u001b[1;32m----> 2\u001b[1;33m \u001b[0mCounter\u001b[0m\u001b[1;33m.\u001b[0m\u001b[0mupdate\u001b[0m\u001b[1;33m(\u001b[0m\u001b[1;34m\"tp\"\u001b[0m\u001b[1;33m)\u001b[0m\u001b[1;33m\u001b[0m\u001b[0m\n\u001b[0m",
        "\u001b[1;31mTypeError\u001b[0m: unbound method update() must be called with Counter instance as first argument (got str instance instead)"
       ]
      }
     ],
     "prompt_number": 137
    },
    {
     "cell_type": "code",
     "collapsed": false,
     "input": [
      "def random_crc():\n",
      "    crc(randint(0,262143), 9, 16)\n",
      "\n",
      "def random_crc_table():\n",
      "    crc_table(table, randint(0,262143))"
     ],
     "language": "python",
     "metadata": {},
     "outputs": [],
     "prompt_number": 271
    },
    {
     "cell_type": "code",
     "collapsed": false,
     "input": [
      "from timeit import timeit"
     ],
     "language": "python",
     "metadata": {},
     "outputs": [],
     "prompt_number": 263
    },
    {
     "cell_type": "code",
     "collapsed": false,
     "input": [
      "crc(46,9,6)"
     ],
     "language": "python",
     "metadata": {},
     "outputs": [
      {
       "metadata": {},
       "output_type": "pyout",
       "prompt_number": 154,
       "text": [
        "(378, '010')"
       ]
      }
     ],
     "prompt_number": 154
    },
    {
     "cell_type": "code",
     "collapsed": false,
     "input": [
      "x = crc(0b111100101, 0b101101,9)\n",
      "print bin(x[0]), x[1]"
     ],
     "language": "python",
     "metadata": {},
     "outputs": [
      {
       "output_type": "stream",
       "stream": "stdout",
       "text": [
        "0b11110010101010 01010\n"
       ]
      }
     ],
     "prompt_number": 152
    },
    {
     "cell_type": "code",
     "collapsed": false,
     "input": [
      "x = (2**(16 + (blen(9)-1))) - 1\n",
      "print bin(x),  len(bin(x))-2"
     ],
     "language": "python",
     "metadata": {},
     "outputs": [
      {
       "output_type": "stream",
       "stream": "stdout",
       "text": [
        "0b1111111111111111111 19\n"
       ]
      }
     ],
     "prompt_number": 134
    },
    {
     "cell_type": "code",
     "collapsed": false,
     "input": [
      "data = 0\n",
      "length = 10\n",
      "res =  \"0\" * (length - blen(data)) + str(bin(data))[2:]\n",
      "print res, len(res)"
     ],
     "language": "python",
     "metadata": {},
     "outputs": [
      {
       "output_type": "stream",
       "stream": "stdout",
       "text": [
        "0000000000 10\n"
       ]
      }
     ],
     "prompt_number": 129
    },
    {
     "cell_type": "code",
     "collapsed": false,
     "input": [
      "a = \"123456789\"\n",
      "a[-3:]"
     ],
     "language": "python",
     "metadata": {},
     "outputs": [
      {
       "metadata": {},
       "output_type": "pyout",
       "prompt_number": 132,
       "text": [
        "'789'"
       ]
      }
     ],
     "prompt_number": 132
    },
    {
     "cell_type": "code",
     "collapsed": false,
     "input": [
      "def carry_around_add(a, b):\n",
      "    c = a + b\n",
      "    return (c & 0xffff) + (c >> 16)\n",
      "\n",
      "def checksum(words):\n",
      "    s = 0\n",
      "    for w in words:\n",
      "        s = carry_around_add(s, w)\n",
      "    return ~s & 0xffff"
     ],
     "language": "python",
     "metadata": {},
     "outputs": [],
     "prompt_number": 8
    },
    {
     "cell_type": "code",
     "collapsed": false,
     "input": [
      "bin(checksum([0b0110011001100000, 0b0101010101010101, 0b1000111100001100,]))"
     ],
     "language": "python",
     "metadata": {},
     "outputs": [
      {
       "metadata": {},
       "output_type": "pyout",
       "prompt_number": 11,
       "text": [
        "'0b1011010100111101'"
       ]
      }
     ],
     "prompt_number": 11
    }
   ],
   "metadata": {}
  }
 ]
}